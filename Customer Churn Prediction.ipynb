{
  "cells": [
    {
      "cell_type": "code",
      "execution_count": 1,
      "metadata": {
        "id": "CHBc54bn14-k"
      },
      "outputs": [
        {
          "name": "stderr",
          "output_type": "stream",
          "text": [
            "C:\\Users\\sayan\\AppData\\Local\\Temp\\ipykernel_24276\\1536809154.py:2: DeprecationWarning: \n",
            "Pyarrow will become a required dependency of pandas in the next major release of pandas (pandas 3.0),\n",
            "(to allow more performant data types, such as the Arrow string type, and better interoperability with other libraries)\n",
            "but was not found to be installed on your system.\n",
            "If this would cause problems for you,\n",
            "please provide us feedback at https://github.com/pandas-dev/pandas/issues/54466\n",
            "        \n",
            "  import pandas as pd\n"
          ]
        }
      ],
      "source": [
        "import numpy as np\n",
        "import pandas as pd\n",
        "from matplotlib import pyplot as plt"
      ]
    },
    {
      "cell_type": "code",
      "execution_count": 3,
      "metadata": {
        "id": "bu4SxV_-3-gE"
      },
      "outputs": [],
      "source": [
        "dat = pd.read_csv(\"Dataset/Churn-Data.csv\")"
      ]
    },
    {
      "cell_type": "code",
      "execution_count": 4,
      "metadata": {
        "colab": {
          "base_uri": "https://localhost:8080/",
          "height": 147
        },
        "id": "RX0lzuhS4Y8S",
        "outputId": "f4a90e96-99fb-4729-d40c-f6be613922ee"
      },
      "outputs": [
        {
          "data": {
            "text/html": [
              "<div>\n",
              "<style scoped>\n",
              "    .dataframe tbody tr th:only-of-type {\n",
              "        vertical-align: middle;\n",
              "    }\n",
              "\n",
              "    .dataframe tbody tr th {\n",
              "        vertical-align: top;\n",
              "    }\n",
              "\n",
              "    .dataframe thead th {\n",
              "        text-align: right;\n",
              "    }\n",
              "</style>\n",
              "<table border=\"1\" class=\"dataframe\">\n",
              "  <thead>\n",
              "    <tr style=\"text-align: right;\">\n",
              "      <th></th>\n",
              "      <th>cID</th>\n",
              "      <th>gender</th>\n",
              "      <th>SeniorCitizen</th>\n",
              "      <th>Partner</th>\n",
              "      <th>Dependents</th>\n",
              "      <th>tenure</th>\n",
              "      <th>PhoneService</th>\n",
              "      <th>MultipleLines</th>\n",
              "      <th>InternetService</th>\n",
              "      <th>OnlineSecurity</th>\n",
              "      <th>...</th>\n",
              "      <th>DeviceProtection</th>\n",
              "      <th>TechSupport</th>\n",
              "      <th>TV_Streaming</th>\n",
              "      <th>Movie_Streaming</th>\n",
              "      <th>Contract</th>\n",
              "      <th>PaperlessBilling</th>\n",
              "      <th>Method_Payment</th>\n",
              "      <th>Charges_Month</th>\n",
              "      <th>TotalCharges</th>\n",
              "      <th>Churn</th>\n",
              "    </tr>\n",
              "  </thead>\n",
              "  <tbody>\n",
              "    <tr>\n",
              "      <th>761</th>\n",
              "      <td>5440-VHLUL</td>\n",
              "      <td>Male</td>\n",
              "      <td>0</td>\n",
              "      <td>No</td>\n",
              "      <td>No</td>\n",
              "      <td>69</td>\n",
              "      <td>Yes</td>\n",
              "      <td>Yes</td>\n",
              "      <td>Fiber optic</td>\n",
              "      <td>No</td>\n",
              "      <td>...</td>\n",
              "      <td>No</td>\n",
              "      <td>Yes</td>\n",
              "      <td>Yes</td>\n",
              "      <td>Yes</td>\n",
              "      <td>One year</td>\n",
              "      <td>Yes</td>\n",
              "      <td>Bank transfer (automatic)</td>\n",
              "      <td>105.2</td>\n",
              "      <td>7386.05</td>\n",
              "      <td>No</td>\n",
              "    </tr>\n",
              "  </tbody>\n",
              "</table>\n",
              "<p>1 rows × 21 columns</p>\n",
              "</div>"
            ],
            "text/plain": [
              "            cID gender  SeniorCitizen Partner Dependents  tenure PhoneService  \\\n",
              "761  5440-VHLUL   Male              0      No         No      69          Yes   \n",
              "\n",
              "    MultipleLines InternetService OnlineSecurity  ... DeviceProtection  \\\n",
              "761           Yes     Fiber optic             No  ...               No   \n",
              "\n",
              "    TechSupport TV_Streaming Movie_Streaming  Contract PaperlessBilling  \\\n",
              "761         Yes          Yes             Yes  One year              Yes   \n",
              "\n",
              "                Method_Payment Charges_Month  TotalCharges Churn  \n",
              "761  Bank transfer (automatic)         105.2       7386.05    No  \n",
              "\n",
              "[1 rows x 21 columns]"
            ]
          },
          "execution_count": 4,
          "metadata": {},
          "output_type": "execute_result"
        }
      ],
      "source": [
        "dat.sample()"
      ]
    },
    {
      "cell_type": "code",
      "execution_count": null,
      "metadata": {
        "colab": {
          "base_uri": "https://localhost:8080/"
        },
        "id": "XZ-KiPcY4_Bc",
        "outputId": "d7a404b5-c4ed-4c89-e27b-51fc48cd18b3"
      },
      "outputs": [],
      "source": [
        "dat.info()"
      ]
    },
    {
      "cell_type": "code",
      "execution_count": null,
      "metadata": {
        "id": "pZTSTWmI5K02"
      },
      "outputs": [],
      "source": [
        "dat.drop('cID' , axis = 'columns' , inplace = True) #as cid not really imp"
      ]
    },
    {
      "cell_type": "code",
      "execution_count": null,
      "metadata": {
        "id": "SvE7ssaz535o"
      },
      "outputs": [],
      "source": [
        "dat['gender'] = dat['gender'].map({'Male': 0, 'Female': 1})"
      ]
    },
    {
      "cell_type": "code",
      "execution_count": null,
      "metadata": {
        "id": "dl1OQjwh6k-N"
      },
      "outputs": [],
      "source": [
        "dat['Partner'] = dat['Partner'].map({'No': 0 , 'Yes': 1})"
      ]
    },
    {
      "cell_type": "code",
      "execution_count": null,
      "metadata": {
        "id": "-iqMjZVd7Ah-"
      },
      "outputs": [],
      "source": [
        "dat['PhoneService'] = dat['PhoneService'].map({'No': 0, 'Yes': 1})\n",
        "dat['Dependents'] = dat['Dependents'].map({'No': 0, 'Yes': 1})"
      ]
    },
    {
      "cell_type": "code",
      "execution_count": null,
      "metadata": {
        "colab": {
          "base_uri": "https://localhost:8080/",
          "height": 568
        },
        "id": "cHE1IFuH7VD8",
        "outputId": "27e505ee-52d5-4dc9-b35f-cd9d048dd68d"
      },
      "outputs": [],
      "source": [
        "colors = [\"#2B299B\" , \"#3B74C9\" , \"#85DFE3\"]\n",
        "\n",
        "plt.figure(figsize = (20, 6))\n",
        "\n",
        "counts = dat[\"MultipleLines\"].value_counts()\n",
        "explode = (0, 0.1  , 0.1)\n",
        "\n",
        "counts.plot(kind = 'pie', fontsize = 12, colors = colors, explode = explode, autopct = '%.1f%%')\n",
        "plt.title('Status')\n",
        "plt.xlabel('Status', weight = \"bold\", color = \"#2F0F5D\", fontsize = 14, labelpad = 20)\n",
        "plt.ylabel('Count', weight = \"bold\", color = \"#2F0F5D\", fontsize = 14, labelpad = 20)\n",
        "plt.legend(labels = counts.index, loc = \"best\")\n",
        "plt.show()"
      ]
    },
    {
      "cell_type": "code",
      "execution_count": null,
      "metadata": {
        "id": "gd2vQ2pa8Us6"
      },
      "outputs": [],
      "source": [
        "mapping_dict = {'No phone service': 0, 'No': 0, 'Yes': 1}\n",
        "\n",
        "dat['MultipleLines'] = dat['MultipleLines'].map(mapping_dict)"
      ]
    },
    {
      "cell_type": "code",
      "execution_count": null,
      "metadata": {
        "id": "x0CNurgG9Ihm"
      },
      "outputs": [],
      "source": [
        "dat['PhoneService'] = dat['PhoneService'].map({'No': 0, 'Yes': 1})"
      ]
    },
    {
      "cell_type": "code",
      "execution_count": null,
      "metadata": {
        "id": "HAAn-86F8oO6"
      },
      "outputs": [],
      "source": [
        "from sklearn.preprocessing import LabelEncoder\n",
        "le = LabelEncoder()"
      ]
    },
    {
      "cell_type": "code",
      "execution_count": null,
      "metadata": {
        "id": "ipNRIzDv9QAw"
      },
      "outputs": [],
      "source": [
        "dat.InternetService = le.fit_transform(dat.InternetService)\n",
        "\n",
        "dat.Contract = le.fit_transform(dat.Contract)\n",
        "\n",
        "dat.Method_Payment = le.fit_transform(dat.Method_Payment)"
      ]
    },
    {
      "cell_type": "code",
      "execution_count": null,
      "metadata": {
        "id": "VVANoUaH-2u-"
      },
      "outputs": [],
      "source": [
        "dat.replace('No internet service','No',inplace=True)\n",
        "dat.replace('No phone service','No',inplace=True)"
      ]
    },
    {
      "cell_type": "code",
      "execution_count": null,
      "metadata": {
        "id": "BQM-Xoa7_kOt"
      },
      "outputs": [],
      "source": [
        "yes_no_columns = ['Partner','Dependents','PhoneService','MultipleLines','OnlineSecurity','OnlineBackup',\n",
        "                  'DeviceProtection','TechSupport','TV_Streaming','Movie_Streaming','PaperlessBilling','Churn']\n",
        "for col in yes_no_columns:\n",
        "    dat[col].replace({'Yes': 1,'No': 0},inplace=True)"
      ]
    },
    {
      "cell_type": "code",
      "execution_count": null,
      "metadata": {
        "colab": {
          "base_uri": "https://localhost:8080/"
        },
        "id": "r_XAPOEsAIT0",
        "outputId": "dab05a2a-0ab6-46e2-d614-39bb1bc38146"
      },
      "outputs": [],
      "source": [
        "pd.to_numeric(dat.TotalCharges,errors='coerce').isnull().sum()"
      ]
    },
    {
      "cell_type": "code",
      "execution_count": null,
      "metadata": {
        "colab": {
          "base_uri": "https://localhost:8080/",
          "height": 383
        },
        "id": "RmBtawnJAT1D",
        "outputId": "7ea20285-825d-48a7-81ee-6e697c3e9b92"
      },
      "outputs": [],
      "source": [
        "dat[pd.to_numeric(dat.TotalCharges,errors='coerce').isnull()]"
      ]
    },
    {
      "cell_type": "code",
      "execution_count": null,
      "metadata": {
        "colab": {
          "base_uri": "https://localhost:8080/"
        },
        "id": "izokBbYlAxIS",
        "outputId": "dde31ad1-29da-4953-8f81-5ebf3d0ad1db"
      },
      "outputs": [],
      "source": [
        "dat.shape"
      ]
    },
    {
      "cell_type": "code",
      "execution_count": null,
      "metadata": {
        "id": "M9fmTR4GBB49"
      },
      "outputs": [],
      "source": [
        "dat = dat[dat.TotalCharges!=' ']"
      ]
    },
    {
      "cell_type": "code",
      "execution_count": null,
      "metadata": {
        "colab": {
          "base_uri": "https://localhost:8080/"
        },
        "id": "gMr1y60iBR-n",
        "outputId": "bc88d664-d860-42f4-e0d4-4e0c24964772"
      },
      "outputs": [],
      "source": [
        "dat.shape"
      ]
    },
    {
      "cell_type": "code",
      "execution_count": null,
      "metadata": {
        "colab": {
          "base_uri": "https://localhost:8080/"
        },
        "id": "kVikAva0BbYX",
        "outputId": "ec1de1ec-5094-48ac-9ede-f2f7b477f2d9"
      },
      "outputs": [],
      "source": [
        "cols_to_scale = ['tenure','Charges_Month','TotalCharges']\n",
        "\n",
        "from sklearn.preprocessing import MinMaxScaler\n",
        "dat[cols_to_scale] = MinMaxScaler().fit_transform(dat[cols_to_scale])"
      ]
    },
    {
      "cell_type": "code",
      "execution_count": null,
      "metadata": {
        "colab": {
          "base_uri": "https://localhost:8080/",
          "height": 206
        },
        "id": "DXBsrsHmCaXx",
        "outputId": "3c1889d2-f6d8-42ab-970d-5924343093c0"
      },
      "outputs": [],
      "source": [
        "dat[cols_to_scale].sample(5)"
      ]
    },
    {
      "cell_type": "code",
      "execution_count": null,
      "metadata": {
        "colab": {
          "base_uri": "https://localhost:8080/",
          "height": 676
        },
        "id": "rwFjhFk4CP_y",
        "outputId": "89cbe897-52a2-4965-ff5d-c771f1339267"
      },
      "outputs": [],
      "source": [
        "def summary(dat):\n",
        "    summary_dat = pd.DataFrame(dat.dtypes, columns=['dtypes'])\n",
        "    summary_dat['missing#'] = dat.isna().sum()\n",
        "    summary_dat['missing%'] = (dat.isna().sum())/len(dat)\n",
        "    summary_dat['unique'] = dat.nunique().values\n",
        "    summary_dat['count'] = dat.count().values\n",
        "    return summary_dat\n",
        "\n",
        "summary(dat)"
      ]
    },
    {
      "cell_type": "code",
      "execution_count": null,
      "metadata": {
        "id": "rsEXuUwcDrhY"
      },
      "outputs": [],
      "source": [
        "X = dat.drop('Churn',axis='columns')\n",
        "y = dat['Churn']"
      ]
    },
    {
      "cell_type": "code",
      "execution_count": null,
      "metadata": {
        "colab": {
          "base_uri": "https://localhost:8080/"
        },
        "id": "BxvA_sY8D8CU",
        "outputId": "a5bc742a-0fe9-4d20-d5b1-40c97c58ab35"
      },
      "outputs": [],
      "source": [
        "\n",
        "y.sample(5)"
      ]
    },
    {
      "cell_type": "code",
      "execution_count": null,
      "metadata": {
        "id": "yWJW55M7ECUl"
      },
      "outputs": [],
      "source": [
        "from sklearn.model_selection import train_test_split\n",
        "X_train, X_test, y_train, y_test = train_test_split(X,y,test_size=0.2,random_state=5)"
      ]
    },
    {
      "cell_type": "code",
      "execution_count": null,
      "metadata": {
        "id": "qXpZA9K-EcWa"
      },
      "outputs": [],
      "source": [
        "import tensorflow as tf\n",
        "from tensorflow.keras.layers import Dense\n",
        "from tensorflow.keras import Sequential"
      ]
    },
    {
      "cell_type": "code",
      "execution_count": null,
      "metadata": {
        "id": "Yv8ndRBnFA3I"
      },
      "outputs": [],
      "source": [
        "model = Sequential([\n",
        "    Dense(15, input_shape=(19,), activation='relu'),\n",
        "    Dense(15, activation='relu'),\n",
        "    Dense(1, activation='sigmoid')\n",
        "])"
      ]
    },
    {
      "cell_type": "code",
      "execution_count": null,
      "metadata": {
        "id": "3pOntSVoFY_n"
      },
      "outputs": [],
      "source": [
        "model.compile(optimizer='adam',\n",
        "              loss='binary_crossentropy',\n",
        "              metrics=['accuracy'])"
      ]
    },
    {
      "cell_type": "code",
      "execution_count": null,
      "metadata": {
        "colab": {
          "base_uri": "https://localhost:8080/"
        },
        "id": "f5nNlNaUFqR2",
        "outputId": "17102c0d-ed7a-4b02-b966-b46607a5c37d"
      },
      "outputs": [],
      "source": [
        "model.fit(X_train, y_train, epochs=100)"
      ]
    },
    {
      "cell_type": "code",
      "execution_count": null,
      "metadata": {
        "colab": {
          "base_uri": "https://localhost:8080/"
        },
        "id": "7M6UWpO6HU4g",
        "outputId": "52acfdf8-4802-4d34-a84e-bbd95b53f170"
      },
      "outputs": [],
      "source": [
        "model.evaluate(X_test, y_test)"
      ]
    },
    {
      "cell_type": "code",
      "execution_count": null,
      "metadata": {
        "colab": {
          "base_uri": "https://localhost:8080/"
        },
        "id": "RwkdrE3tHtVW",
        "outputId": "4aef5a5c-3cd4-4fe2-eb09-5fd887144a9f"
      },
      "outputs": [],
      "source": [
        "yp = model.predict(X_test)\n",
        "\n",
        "y_pred = []\n",
        "for element in yp:\n",
        "    if element > 0.5:\n",
        "        y_pred.append(1)\n",
        "    else:\n",
        "        y_pred.append(0)"
      ]
    },
    {
      "cell_type": "code",
      "execution_count": null,
      "metadata": {
        "id": "lzpo7dFyIF0w"
      },
      "outputs": [],
      "source": [
        "def f1_score_tf(y_true, y_pred):\n",
        "\n",
        "    y_pred_binary = tf.round(y_pred)\n",
        "\n",
        "    tp = tf.reduce_sum(y_true * y_pred_binary)\n",
        "    fp = tf.reduce_sum(tf.clip_by_value(y_pred_binary - y_true, 0, 1))\n",
        "    fn = tf.reduce_sum(tf.clip_by_value(y_true - y_pred_binary, 0, 1))\n",
        "\n",
        "    precision = tp / (tp + fp + tf.keras.backend.epsilon())\n",
        "    recall = tp / (tp + fn + tf.keras.backend.epsilon())\n",
        "\n",
        "    f1 = 2 * (precision * recall) / (precision + recall + tf.keras.backend.epsilon())\n",
        "    return f1.numpy()"
      ]
    },
    {
      "cell_type": "code",
      "execution_count": null,
      "metadata": {
        "id": "FcsKqgvoK7FR"
      },
      "outputs": [],
      "source": [
        "\n"
      ]
    },
    {
      "cell_type": "code",
      "execution_count": null,
      "metadata": {
        "id": "VUVd9Kl0I3xg"
      },
      "outputs": [],
      "source": [
        "y_true = np.array(y_test)"
      ]
    },
    {
      "cell_type": "code",
      "execution_count": null,
      "metadata": {
        "id": "vcyOeMTLJ5_i"
      },
      "outputs": [],
      "source": [
        "y_true = tf.constant(y_true)\n",
        "y_pred = tf.constant(y_true)"
      ]
    },
    {
      "cell_type": "code",
      "execution_count": null,
      "metadata": {
        "id": "nGHryZm7KZu7"
      },
      "outputs": [],
      "source": [
        "y_true = np.array(y_test, dtype='int32')\n",
        "y_pred = np.array(y_pred, dtype='float32')\n"
      ]
    },
    {
      "cell_type": "code",
      "execution_count": null,
      "metadata": {
        "id": "nNKniW1xINea"
      },
      "outputs": [],
      "source": [
        "f1_tf = f1_score_tf(y_true, y_pred)"
      ]
    },
    {
      "cell_type": "code",
      "execution_count": null,
      "metadata": {
        "colab": {
          "base_uri": "https://localhost:8080/"
        },
        "id": "TSC3sqetJif2",
        "outputId": "65dbc133-078d-4e47-bce9-a924f11804d1"
      },
      "outputs": [],
      "source": [
        "print(\"F1 Score (TensorFlow):\", f1_tf)"
      ]
    },
    {
      "cell_type": "code",
      "execution_count": null,
      "metadata": {
        "id": "vZxlICZhL6OQ"
      },
      "outputs": [],
      "source": [
        "from tensorflow.keras.models import load_model"
      ]
    },
    {
      "cell_type": "code",
      "execution_count": null,
      "metadata": {
        "colab": {
          "base_uri": "https://localhost:8080/"
        },
        "id": "Cm4d72tkNZ8v",
        "outputId": "379ed967-65f4-42c4-c286-5baa5e02e793"
      },
      "outputs": [],
      "source": [
        "model.save('model.h5')"
      ]
    }
  ],
  "metadata": {
    "colab": {
      "provenance": []
    },
    "kernelspec": {
      "display_name": "Python 3",
      "name": "python3"
    },
    "language_info": {
      "codemirror_mode": {
        "name": "ipython",
        "version": 3
      },
      "file_extension": ".py",
      "mimetype": "text/x-python",
      "name": "python",
      "nbconvert_exporter": "python",
      "pygments_lexer": "ipython3",
      "version": "3.12.2"
    }
  },
  "nbformat": 4,
  "nbformat_minor": 0
}
